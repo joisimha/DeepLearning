{
 "cells": [
  {
   "cell_type": "code",
   "execution_count": 11,
   "metadata": {
    "collapsed": true
   },
   "outputs": [],
   "source": [
    "# These are all the modules we'll be using later. Make sure you can import them\n",
    "# before proceeding further.\n",
    "from __future__ import print_function\n",
    "import matplotlib.pyplot as plt\n",
    "import numpy as np\n",
    "import os\n",
    "import sys\n",
    "import tarfile\n",
    "from IPython.display import display, Image\n",
    "from scipy import ndimage\n",
    "from sklearn.linear_model import LogisticRegression\n",
    "from six.moves.urllib.request import urlretrieve\n",
    "from six.moves import cPickle as pickle\n",
    "\n",
    "# Config the matplotlib backend as plotting inline in IPython\n",
    "%matplotlib inline"
   ]
  },
  {
   "cell_type": "code",
   "execution_count": 12,
   "metadata": {
    "collapsed": false
   },
   "outputs": [
    {
     "name": "stdout",
     "output_type": "stream",
     "text": [
      "Found and verified notMNIST_large.tar.gz\n",
      "Found and verified notMNIST_small.tar.gz\n"
     ]
    }
   ],
   "source": [
    "url = 'http://commondatastorage.googleapis.com/books1000/'\n",
    "last_percent_reported = None\n",
    "\n",
    "def download_progress_hook(count, blockSize, totalSize):\n",
    "  \"\"\"A hook to report the progress of a download. This is mostly intended for users with\n",
    "  slow internet connections. Reports every 5% change in download progress.\n",
    "  \"\"\"\n",
    "  global last_percent_reported\n",
    "  percent = int(count * blockSize * 100 / totalSize)\n",
    "\n",
    "  if last_percent_reported != percent:\n",
    "    if percent % 5 == 0:\n",
    "      sys.stdout.write(\"%s%%\" % percent)\n",
    "      sys.stdout.flush()\n",
    "    else:\n",
    "      sys.stdout.write(\".\")\n",
    "      sys.stdout.flush()\n",
    "      \n",
    "    last_percent_reported = percent\n",
    "        \n",
    "def maybe_download(filename, expected_bytes, force=False):\n",
    "  \"\"\"Download a file if not present, and make sure it's the right size.\"\"\"\n",
    "  if force or not os.path.exists(filename):\n",
    "    print('Attempting to download:', filename) \n",
    "    filename, _ = urlretrieve(url + filename, filename, reporthook=download_progress_hook)\n",
    "    print('\\nDownload Complete!')\n",
    "  statinfo = os.stat(filename)\n",
    "  if statinfo.st_size == expected_bytes:\n",
    "    print('Found and verified', filename)\n",
    "  else:\n",
    "    raise Exception(\n",
    "      'Failed to verify ' + filename + '. Can you get to it with a browser?')\n",
    "  return filename\n",
    "\n",
    "train_filename = maybe_download('notMNIST_large.tar.gz', 247336696)\n",
    "test_filename = maybe_download('notMNIST_small.tar.gz', 8458043)"
   ]
  },
  {
   "cell_type": "code",
   "execution_count": null,
   "metadata": {
    "collapsed": false
   },
   "outputs": [],
   "source": []
  },
  {
   "cell_type": "code",
   "execution_count": 13,
   "metadata": {
    "collapsed": false
   },
   "outputs": [
    {
     "name": "stdout",
     "output_type": "stream",
     "text": [
      "notMNIST_large already present - Skipping extraction of notMNIST_large.tar.gz.\n",
      "['notMNIST_large\\\\A', 'notMNIST_large\\\\B', 'notMNIST_large\\\\C', 'notMNIST_large\\\\D', 'notMNIST_large\\\\E', 'notMNIST_large\\\\F', 'notMNIST_large\\\\G', 'notMNIST_large\\\\H', 'notMNIST_large\\\\I', 'notMNIST_large\\\\J']\n",
      "notMNIST_small already present - Skipping extraction of notMNIST_small.tar.gz.\n",
      "['notMNIST_small\\\\A', 'notMNIST_small\\\\B', 'notMNIST_small\\\\C', 'notMNIST_small\\\\D', 'notMNIST_small\\\\E', 'notMNIST_small\\\\F', 'notMNIST_small\\\\G', 'notMNIST_small\\\\H', 'notMNIST_small\\\\I', 'notMNIST_small\\\\J']\n"
     ]
    }
   ],
   "source": [
    "num_classes = 10\n",
    "np.random.seed(133)\n",
    "\n",
    "def maybe_extract(filename, force=False):\n",
    "  root = os.path.splitext(os.path.splitext(filename)[0])[0]  # remove .tar.gz\n",
    "  if os.path.isdir(root) and not force:\n",
    "    # You may override by setting force=True.\n",
    "    print('%s already present - Skipping extraction of %s.' % (root, filename))\n",
    "  else:\n",
    "    print('Extracting data for %s. This may take a while. Please wait.' % root)\n",
    "    tar = tarfile.open(filename)\n",
    "    sys.stdout.flush()\n",
    "    tar.extractall()\n",
    "    tar.close()\n",
    "  data_folders = [\n",
    "    os.path.join(root, d) for d in sorted(os.listdir(root))\n",
    "    if os.path.isdir(os.path.join(root, d))]\n",
    "  if len(data_folders) != num_classes:\n",
    "    raise Exception(\n",
    "      'Expected %d folders, one per class. Found %d instead.' % (\n",
    "        num_classes, len(data_folders)))\n",
    "  print(data_folders)\n",
    "  return data_folders\n",
    "  \n",
    "train_folders = maybe_extract(train_filename)\n",
    "test_folders = maybe_extract(test_filename)"
   ]
  },
  {
   "cell_type": "code",
   "execution_count": 14,
   "metadata": {
    "collapsed": false
   },
   "outputs": [
    {
     "data": {
      "text/plain": [
       "['notMNIST_large\\\\A',\n",
       " 'notMNIST_large\\\\B',\n",
       " 'notMNIST_large\\\\C',\n",
       " 'notMNIST_large\\\\D',\n",
       " 'notMNIST_large\\\\E',\n",
       " 'notMNIST_large\\\\F',\n",
       " 'notMNIST_large\\\\G',\n",
       " 'notMNIST_large\\\\H',\n",
       " 'notMNIST_large\\\\I',\n",
       " 'notMNIST_large\\\\J']"
      ]
     },
     "execution_count": 14,
     "metadata": {},
     "output_type": "execute_result"
    }
   ],
   "source": [
    "train_folders"
   ]
  },
  {
   "cell_type": "code",
   "execution_count": 15,
   "metadata": {
    "collapsed": false
   },
   "outputs": [
    {
     "data": {
      "text/plain": [
       "['notMNIST_small\\\\A',\n",
       " 'notMNIST_small\\\\B',\n",
       " 'notMNIST_small\\\\C',\n",
       " 'notMNIST_small\\\\D',\n",
       " 'notMNIST_small\\\\E',\n",
       " 'notMNIST_small\\\\F',\n",
       " 'notMNIST_small\\\\G',\n",
       " 'notMNIST_small\\\\H',\n",
       " 'notMNIST_small\\\\I',\n",
       " 'notMNIST_small\\\\J']"
      ]
     },
     "execution_count": 15,
     "metadata": {},
     "output_type": "execute_result"
    }
   ],
   "source": [
    "test_folders"
   ]
  },
  {
   "cell_type": "code",
   "execution_count": 16,
   "metadata": {
    "collapsed": false
   },
   "outputs": [
    {
     "data": {
      "image/png": "[encoded data removed]",
      "text/plain": [
       "<IPython.core.display.Image object>"
      ]
     },
     "metadata": {},
     "output_type": "display_data"
    },
    {
     "data": {
      "image/png": "[encoded data removed]",
      "text/plain": [
       "<IPython.core.display.Image object>"
      ]
     },
     "metadata": {},
     "output_type": "display_data"
    },
    {
     "data": {
      "image/png": "[encoded data removed]",
      "text/plain": [
       "<IPython.core.display.Image object>"
      ]
     },
     "metadata": {},
     "output_type": "display_data"
    },
    {
     "data": {
      "image/png": "[encoded data removed]",
      "text/plain": [
       "<IPython.core.display.Image object>"
      ]
     },
     "metadata": {},
     "output_type": "display_data"
    },
    {
     "data": {
      "image/png": "[encoded data removed]",
      "text/plain": [
       "<IPython.core.display.Image object>"
      ]
     },
     "metadata": {},
     "output_type": "display_data"
    },
    {
     "data": {
      "image/png": "[encoded data removed]",
      "text/plain": [
       "<IPython.core.display.Image object>"
      ]
     },
     "metadata": {},
     "output_type": "display_data"
    },
    {
     "data": {
      "image/png": "[encoded data removed]",
      "text/plain": [
       "<IPython.core.display.Image object>"
      ]
     },
     "metadata": {},
     "output_type": "display_data"
    },
    {
     "data": {
      "image/png": "[encoded data removed]",
      "text/plain": [
       "<IPython.core.display.Image object>"
      ]
     },
     "metadata": {},
     "output_type": "display_data"
    },
    {
     "data": {
      "image/png": "[encoded data removed]",
      "text/plain": [
       "<IPython.core.display.Image object>"
      ]
     },
     "metadata": {},
     "output_type": "display_data"
    },
    {
     "data": {
      "image/png": "[encoded data removed]",
      "text/plain": [
       "<IPython.core.display.Image object>"
      ]
     },
     "metadata": {},
     "output_type": "display_data"
    }
   ],
   "source": [
    "import os, random\n",
    "dir_name = \"notMNIST_large\"\n",
    "folder_names = [\"A\", \"B\", \"C\", \"D\", \"E\", \"F\", \"G\", \"H\", \"I\", \"J\"]\n",
    "for folder in folder_names:\n",
    "    im_name = random.choice(os.listdir(dir_name + \"/\" + folder))\n",
    "    im_file = dir_name + \"/\" + folder + \"/\" + im_name\n",
    "    display(Image(filename=im_file))"
   ]
  },
  {
   "cell_type": "code",
   "execution_count": 17,
   "metadata": {
    "collapsed": false
   },
   "outputs": [
    {
     "name": "stdout",
     "output_type": "stream",
     "text": [
      "notMNIST_large\\A.pickle already present - Skipping pickling.\n",
      "notMNIST_large\\B.pickle already present - Skipping pickling.\n",
      "notMNIST_large\\C.pickle already present - Skipping pickling.\n",
      "notMNIST_large\\D.pickle already present - Skipping pickling.\n",
      "notMNIST_large\\E.pickle already present - Skipping pickling.\n",
      "notMNIST_large\\F.pickle already present - Skipping pickling.\n",
      "notMNIST_large\\G.pickle already present - Skipping pickling.\n",
      "notMNIST_large\\H.pickle already present - Skipping pickling.\n",
      "notMNIST_large\\I.pickle already present - Skipping pickling.\n",
      "notMNIST_large\\J.pickle already present - Skipping pickling.\n",
      "notMNIST_small\\A.pickle already present - Skipping pickling.\n",
      "notMNIST_small\\B.pickle already present - Skipping pickling.\n",
      "notMNIST_small\\C.pickle already present - Skipping pickling.\n",
      "notMNIST_small\\D.pickle already present - Skipping pickling.\n",
      "notMNIST_small\\E.pickle already present - Skipping pickling.\n",
      "notMNIST_small\\F.pickle already present - Skipping pickling.\n",
      "notMNIST_small\\G.pickle already present - Skipping pickling.\n",
      "notMNIST_small\\H.pickle already present - Skipping pickling.\n",
      "notMNIST_small\\I.pickle already present - Skipping pickling.\n",
      "notMNIST_small\\J.pickle already present - Skipping pickling.\n"
     ]
    }
   ],
   "source": [
    "image_size = 28  # Pixel width and height.\n",
    "pixel_depth = 255.0  # Number of levels per pixel.\n",
    "\n",
    "def load_letter(folder, min_num_images):\n",
    "  \"\"\"Load the data for a single letter label.\"\"\"\n",
    "  image_files = os.listdir(folder)\n",
    "  dataset = np.ndarray(shape=(len(image_files), image_size, image_size),\n",
    "                         dtype=np.float32)\n",
    "  image_index = 0\n",
    "  print(folder)\n",
    "  for image in os.listdir(folder):\n",
    "    image_file = os.path.join(folder, image)\n",
    "    try:\n",
    "      image_data = (ndimage.imread(image_file).astype(float) - \n",
    "                    pixel_depth / 2) / pixel_depth\n",
    "      if image_data.shape != (image_size, image_size):\n",
    "        raise Exception('Unexpected image shape: %s' % str(image_data.shape))\n",
    "      dataset[image_index, :, :] = image_data\n",
    "      image_index += 1\n",
    "    except IOError as e:\n",
    "      print('Could not read:', image_file, ':', e, '- it\\'s ok, skipping.')\n",
    "    \n",
    "  num_images = image_index\n",
    "  dataset = dataset[0:num_images, :, :]\n",
    "  if num_images < min_num_images:\n",
    "    raise Exception('Many fewer images than expected: %d < %d' %\n",
    "                    (num_images, min_num_images))\n",
    "    \n",
    "  print('Full dataset tensor:', dataset.shape)\n",
    "  print('Mean:', np.mean(dataset))\n",
    "  print('Standard deviation:', np.std(dataset))\n",
    "  return dataset\n",
    "\n",
    "\n",
    "def maybe_pickle(data_folders, min_num_images_per_class, force=False):\n",
    "  dataset_names = []\n",
    "  for folder in data_folders:\n",
    "    set_filename = folder + '.pickle'\n",
    "    dataset_names.append(set_filename)\n",
    "    if os.path.exists(set_filename) and not force:\n",
    "      # You may override by setting force=True.\n",
    "      print('%s already present - Skipping pickling.' % set_filename)\n",
    "    else:\n",
    "      print('Pickling %s.' % set_filename)\n",
    "      dataset = load_letter(folder, min_num_images_per_class)\n",
    "      try:\n",
    "        with open(set_filename, 'wb') as f:\n",
    "          pickle.dump(dataset, f, pickle.HIGHEST_PROTOCOL)\n",
    "      except Exception as e:\n",
    "        print('Unable to save data to', set_filename, ':', e)\n",
    "  \n",
    "  return dataset_names\n",
    "\n",
    "train_datasets = maybe_pickle(train_folders, 45000)\n",
    "est_datasets = maybe_pickle(test_folders, 1800)"
   ]
  },
  {
   "cell_type": "code",
   "execution_count": 18,
   "metadata": {
    "collapsed": false
   },
   "outputs": [
    {
     "name": "stdout",
     "output_type": "stream",
     "text": [
      "[[-0.5        -0.5        -0.5        -0.5        -0.5        -0.5        -0.5\n",
      "  -0.5        -0.5        -0.5        -0.45294118 -0.45686275 -0.49607843\n",
      "  -0.5        -0.46470588 -0.48039216 -0.5        -0.49607843 -0.5        -0.5\n",
      "  -0.5        -0.5        -0.5        -0.5        -0.5        -0.5        -0.5\n",
      "  -0.5       ]\n",
      " [-0.5        -0.5        -0.5        -0.5        -0.5        -0.5        -0.5\n",
      "  -0.5        -0.5        -0.5        -0.44117647 -0.40980393 -0.17843138\n",
      "  -0.04509804 -0.26078433 -0.1509804  -0.35882354 -0.5        -0.49607843\n",
      "  -0.5        -0.5        -0.5        -0.5        -0.5        -0.5        -0.5\n",
      "  -0.5        -0.5       ]\n",
      " [-0.5        -0.5        -0.5        -0.5        -0.5        -0.5        -0.5\n",
      "  -0.5        -0.49215686 -0.5        -0.2254902   0.11960784  0.26862746\n",
      "   0.5         0.37058824  0.38627452 -0.01372549 -0.37843138 -0.49215686\n",
      "  -0.5        -0.5        -0.5        -0.5        -0.5        -0.5        -0.5\n",
      "  -0.5        -0.5       ]\n",
      " [-0.5        -0.5        -0.5        -0.5        -0.5        -0.5        -0.5\n",
      "  -0.49215686 -0.5        -0.32745099  0.06862745  0.30000001  0.5\n",
      "   0.48039216  0.49215686  0.5         0.39411765  0.04509804 -0.5\n",
      "  -0.49607843 -0.5        -0.5        -0.5        -0.5        -0.5        -0.5\n",
      "  -0.5        -0.5       ]\n",
      " [-0.5        -0.5        -0.5        -0.5        -0.5        -0.5        -0.5\n",
      "  -0.49215686 -0.5        -0.31960785  0.03333334  0.44509804  0.49607843\n",
      "   0.49607843  0.49215686  0.49607843  0.46078432  0.13137256 -0.3392157\n",
      "  -0.48823529 -0.5        -0.5        -0.5        -0.5        -0.5        -0.5\n",
      "  -0.5        -0.5       ]\n",
      " [-0.5        -0.5        -0.5        -0.5        -0.5        -0.5        -0.5\n",
      "  -0.48039216 -0.5        -0.17058824  0.49607843  0.49607843  0.49607843\n",
      "   0.5         0.5         0.5         0.44117647  0.4137255   0.00588235\n",
      "  -0.5        -0.5        -0.49607843 -0.5        -0.5        -0.5        -0.5\n",
      "  -0.5        -0.5       ]\n",
      " [-0.5        -0.5        -0.5        -0.5        -0.5        -0.5\n",
      "  -0.49215686 -0.5        -0.20196079  0.20980392  0.40588236  0.48823529\n",
      "   0.5         0.5         0.5         0.49607843  0.5         0.45686275\n",
      "   0.01764706 -0.37843138 -0.5        -0.49607843 -0.5        -0.5        -0.5\n",
      "  -0.5        -0.5        -0.5       ]\n",
      " [-0.5        -0.5        -0.5        -0.5        -0.5        -0.5\n",
      "  -0.48823529 -0.5         0.00980392  0.20588236  0.45686275  0.5\n",
      "   0.48823529  0.48823529  0.5         0.49215686  0.5         0.35882354\n",
      "   0.36666667 -0.26862746 -0.5        -0.48823529 -0.5        -0.5        -0.5\n",
      "  -0.5        -0.5        -0.5       ]\n",
      " [-0.5        -0.5        -0.5        -0.5        -0.5        -0.5\n",
      "  -0.48431373 -0.45294118  0.04117647  0.36666667  0.5         0.49607843\n",
      "   0.49215686  0.47254902  0.4254902   0.49215686  0.49607843  0.5\n",
      "   0.42156863 -0.06078431 -0.5        -0.49215686 -0.5        -0.5        -0.5\n",
      "  -0.5        -0.5        -0.5       ]\n",
      " [-0.5        -0.5        -0.5        -0.5        -0.5        -0.49607843\n",
      "  -0.5        -0.31568629  0.23333333  0.5         0.49215686  0.5\n",
      "   0.45294118  0.21764706  0.23333333  0.30000001  0.5         0.49215686\n",
      "   0.49607843  0.06862745 -0.22941177 -0.5        -0.49607843 -0.5        -0.5\n",
      "  -0.5        -0.5        -0.5       ]\n",
      " [-0.5        -0.5        -0.5        -0.49607843 -0.5        -0.44901961\n",
      "  -0.37450981  0.17058824  0.31176472  0.5         0.49215686  0.5\n",
      "   0.2764706  -0.43333334 -0.10392157  0.22156863  0.44901961  0.5         0.5\n",
      "   0.37843138  0.04901961 -0.34705883 -0.5        -0.49215686 -0.5        -0.5\n",
      "  -0.5        -0.5       ]\n",
      " [-0.5        -0.5        -0.5        -0.49607843 -0.5        -0.36666667\n",
      "  -0.46078432  0.04117647  0.5         0.48431373  0.49607843  0.49215686\n",
      "   0.0254902  -0.49215686 -0.23333333  0.1627451   0.46078432  0.5         0.5\n",
      "   0.46862745  0.10784314 -0.22941177 -0.5        -0.49215686 -0.5        -0.5\n",
      "  -0.5        -0.5       ]\n",
      " [-0.5        -0.5        -0.5        -0.5        -0.48823529 -0.43333334\n",
      "  -0.1509804   0.4254902   0.44901961  0.5         0.5         0.33137256\n",
      "  -0.06078431 -0.42156863 -0.48431373 -0.09607843  0.24509804  0.37450981\n",
      "   0.5         0.5         0.37450981 -0.20196079 -0.44117647 -0.5\n",
      "  -0.49607843 -0.5        -0.5        -0.5       ]\n",
      " [-0.5        -0.5        -0.5        -0.5        -0.48823529 -0.41764706\n",
      "   0.18627451  0.48823529  0.49215686  0.49607843  0.42941177  0.0882353\n",
      "  -0.28823531 -0.5        -0.49215686 -0.36274511  0.1509804   0.45686275\n",
      "   0.49607843  0.5         0.41764706  0.05294118 -0.26862746 -0.5\n",
      "  -0.49607843 -0.5        -0.5        -0.5       ]\n",
      " [-0.5        -0.5        -0.5        -0.49607843 -0.5        -0.19803922\n",
      "   0.40588236  0.5         0.5         0.49607843  0.36274511  0.0372549\n",
      "  -0.3509804  -0.5        -0.46862745 -0.37450981 -0.10784314  0.47254902\n",
      "   0.49215686  0.49215686  0.5         0.15490197 -0.37843138 -0.40196079\n",
      "  -0.48431373 -0.5        -0.5        -0.5       ]\n",
      " [-0.5        -0.5        -0.5        -0.5        -0.38627452 -0.21372549\n",
      "   0.24117647  0.5         0.5         0.42941177  0.21764706 -0.19019608\n",
      "  -0.5        -0.49215686 -0.5        -0.44509804 -0.17058824  0.12352941\n",
      "   0.5         0.49215686  0.48823529  0.5        -0.14705883 -0.44117647\n",
      "  -0.46470588 -0.5        -0.5        -0.5       ]\n",
      " [-0.5        -0.5        -0.49607843 -0.48823529 -0.33137256  0.17450981\n",
      "   0.46470588  0.49607843  0.5         0.46470588  0.29215688  0.06078431\n",
      "  -0.11960784 -0.26078433 -0.04509804 -0.17450981 -0.12745099  0.38235295\n",
      "   0.42941177  0.49215686  0.5         0.47647059  0.22941177 -0.3509804\n",
      "  -0.48431373 -0.5        -0.5        -0.5       ]\n",
      " [-0.5        -0.49607843 -0.5        -0.42156863 -0.1627451   0.35882354\n",
      "   0.49607843  0.5         0.5         0.47254902  0.44117647  0.30784315\n",
      "   0.24117647  0.42941177  0.18627451  0.28823531  0.35882354  0.4254902\n",
      "   0.45294118  0.49607843  0.5         0.48039216  0.43333334 -0.21372549\n",
      "  -0.4254902  -0.5        -0.49607843 -0.5       ]\n",
      " [-0.5        -0.48823529 -0.48823529 -0.31568629  0.10392157  0.42156863\n",
      "   0.5         0.49607843  0.49607843  0.5         0.5         0.5         0.5\n",
      "   0.49607843  0.46078432  0.49215686  0.47647059  0.5         0.5         0.5\n",
      "   0.5         0.48823529  0.5         0.16666667 -0.36666667 -0.48431373\n",
      "  -0.5        -0.5       ]\n",
      " [-0.5        -0.48431373 -0.48431373 -0.07254902  0.38627452  0.39411765\n",
      "   0.5         0.49215686  0.5         0.49607843  0.47647059  0.48823529\n",
      "   0.5         0.49215686  0.49607843  0.49215686  0.5         0.5\n",
      "   0.49215686  0.49215686  0.5         0.48823529  0.5         0.33137256\n",
      "  -0.33137256 -0.45294118 -0.5        -0.5       ]\n",
      " [-0.49607843 -0.5        -0.43333334 -0.00196078  0.47254902  0.45686275\n",
      "   0.5         0.5         0.48431373  0.48039216  0.48039216  0.48431373\n",
      "   0.4137255   0.49215686  0.40980393  0.44901961  0.38627452  0.46862745\n",
      "   0.48823529  0.5         0.49607843  0.49607843  0.5         0.36666667\n",
      "  -0.16666667 -0.4137255  -0.5        -0.49607843]\n",
      " [-0.5        -0.47254902 -0.14313726  0.21764706  0.47647059  0.5\n",
      "   0.49607843  0.47647059  0.06470589 -0.03333334  0.26862746 -0.04509804\n",
      "  -0.17058824 -0.10392157 -0.17058824  0.06470589  0.1        -0.19803922\n",
      "  -0.02156863  0.31176472  0.46470588  0.45294118  0.5         0.49607843\n",
      "   0.26078433 -0.36274511 -0.5        -0.49215686]\n",
      " [-0.48431373 -0.33529413 -0.04901961  0.33137256  0.5         0.48431373\n",
      "   0.5         0.13529412 -0.21372549 -0.36274511 -0.5        -0.46078432\n",
      "  -0.44509804 -0.5        -0.43725491 -0.47647059 -0.36666667 -0.4254902\n",
      "  -0.47647059 -0.01764706  0.23333333  0.38235295  0.5         0.49215686\n",
      "   0.31960785  0.15490197 -0.5        -0.49607843]\n",
      " [-0.44901961 -0.30784315  0.09607843  0.48039216  0.49607843  0.5\n",
      "   0.43333334  0.00980392 -0.29215688 -0.47254902 -0.5        -0.49215686\n",
      "  -0.49607843 -0.48431373 -0.49607843 -0.49607843 -0.5        -0.49215686\n",
      "  -0.5        -0.43725491  0.02156863  0.44509804  0.5         0.5\n",
      "   0.4254902   0.07254902 -0.11960784 -0.48431373]\n",
      " [-0.39803922 -0.12745099  0.3509804   0.5         0.48823529  0.43725491\n",
      "   0.19019608 -0.11176471 -0.43725491 -0.5        -0.49607843 -0.5        -0.5\n",
      "  -0.5        -0.5        -0.5        -0.49607843 -0.49607843 -0.48823529\n",
      "  -0.5        -0.25686276  0.39803922  0.42156863  0.49607843  0.48039216\n",
      "   0.36274511  0.00588235 -0.5       ]\n",
      " [-0.33137256  0.21764706  0.48431373  0.5         0.4254902   0.44117647\n",
      "  -0.02156863 -0.40980393 -0.44509804 -0.5        -0.5        -0.5        -0.5\n",
      "  -0.5        -0.5        -0.5        -0.5        -0.5        -0.49607843\n",
      "  -0.5        -0.41764706  0.1627451   0.44901961  0.45294118  0.5         0.5\n",
      "  -0.00980392 -0.34313726]\n",
      " [-0.33137256 -0.02941176 -0.00588235  0.08431373  0.33137256  0.02156863\n",
      "  -0.40980393 -0.49215686 -0.49215686 -0.5        -0.5        -0.5        -0.5\n",
      "  -0.5        -0.5        -0.5        -0.5        -0.5        -0.49607843\n",
      "  -0.5        -0.35490197 -0.2372549   0.19803922  0.29607844  0.01372549\n",
      "   0.20196079 -0.17843138 -0.45294118]\n",
      " [-0.48431373 -0.40196079 -0.37450981 -0.48039216 -0.45294118 -0.46470588\n",
      "  -0.49607843 -0.49607843 -0.5        -0.5        -0.5        -0.5        -0.5\n",
      "  -0.5        -0.5        -0.5        -0.5        -0.5        -0.5        -0.5\n",
      "  -0.46470588 -0.4254902  -0.48431373 -0.38235295 -0.45686275 -0.46862745\n",
      "  -0.19803922 -0.44901961]]\n"
     ]
    },
    {
     "data": {
      "image/png": "[encoded data removed]",
      "text/plain": [
       "<matplotlib.figure.Figure at 0x240d6df5e48>"
      ]
     },
     "metadata": {},
     "output_type": "display_data"
    }
   ],
   "source": [
    "with open('notMNIST_small/A.pickle', 'rb') as f:\n",
    "        letter_set_A = pickle.load(f)\n",
    "imgplot = plt.imshow(letter_set_A[0], cmap='Greys_r')\n",
    "print(letter_set_A[0])\n",
    "plt.show()"
   ]
  },
  {
   "cell_type": "code",
   "execution_count": 19,
   "metadata": {
    "collapsed": false
   },
   "outputs": [
    {
     "name": "stdout",
     "output_type": "stream",
     "text": [
      "(52909, 28, 28)\n",
      "(52911, 28, 28)\n",
      "(52912, 28, 28)\n",
      "(52911, 28, 28)\n",
      "(52912, 28, 28)\n",
      "(52912, 28, 28)\n",
      "(52912, 28, 28)\n",
      "(52912, 28, 28)\n",
      "(52912, 28, 28)\n",
      "(52911, 28, 28)\n",
      "(1872, 28, 28)\n",
      "(1873, 28, 28)\n",
      "(1873, 28, 28)\n",
      "(1873, 28, 28)\n",
      "(1873, 28, 28)\n",
      "(1872, 28, 28)\n",
      "(1872, 28, 28)\n",
      "(1872, 28, 28)\n",
      "(1872, 28, 28)\n",
      "(1872, 28, 28)\n"
     ]
    }
   ],
   "source": [
    "for label, pickle_file in enumerate(train_datasets):\n",
    "    with open(pickle_file, 'rb') as f:\n",
    "        letter_set = pickle.load(f)\n",
    "        print(letter_set.shape)\n",
    "        \n",
    "for label, pickle_file in enumerate(test_datasets):\n",
    "    with open(pickle_file, 'rb') as f:\n",
    "        letter_set = pickle.load(f)\n",
    "        print(letter_set.shape)"
   ]
  },
  {
   "cell_type": "code",
   "execution_count": 20,
   "metadata": {
    "collapsed": false
   },
   "outputs": [
    {
     "name": "stdout",
     "output_type": "stream",
     "text": [
      "Training: (200000, 28, 28) (200000,)\n",
      "Validation: (10000, 28, 28) (10000,)\n",
      "Testing: (10000, 28, 28) (10000,)\n"
     ]
    }
   ],
   "source": [
    "def make_arrays(nb_rows, img_size):\n",
    "  if nb_rows:\n",
    "    dataset = np.ndarray((nb_rows, img_size, img_size), dtype=np.float32)\n",
    "    labels = np.ndarray(nb_rows, dtype=np.int32)\n",
    "  else:\n",
    "    dataset, labels = None, None\n",
    "  return dataset, labels\n",
    "\n",
    "def merge_datasets(pickle_files, train_size, valid_size=0):\n",
    "  num_classes = len(pickle_files)\n",
    "  valid_dataset, valid_labels = make_arrays(valid_size, image_size)\n",
    "  train_dataset, train_labels = make_arrays(train_size, image_size)\n",
    "  vsize_per_class = valid_size // num_classes\n",
    "  tsize_per_class = train_size // num_classes\n",
    "    \n",
    "  start_v, start_t = 0, 0\n",
    "  end_v, end_t = vsize_per_class, tsize_per_class\n",
    "  end_l = vsize_per_class+tsize_per_class\n",
    "  for label, pickle_file in enumerate(pickle_files):       \n",
    "    try:\n",
    "      with open(pickle_file, 'rb') as f:\n",
    "        letter_set = pickle.load(f)\n",
    "        # let's shuffle the letters to have random validation and training set\n",
    "        np.random.shuffle(letter_set)\n",
    "        if valid_dataset is not None:\n",
    "          valid_letter = letter_set[:vsize_per_class, :, :]\n",
    "          valid_dataset[start_v:end_v, :, :] = valid_letter\n",
    "          valid_labels[start_v:end_v] = label\n",
    "          start_v += vsize_per_class\n",
    "          end_v += vsize_per_class\n",
    "                    \n",
    "        train_letter = letter_set[vsize_per_class:end_l, :, :]\n",
    "        train_dataset[start_t:end_t, :, :] = train_letter\n",
    "        train_labels[start_t:end_t] = label\n",
    "        start_t += tsize_per_class\n",
    "        end_t += tsize_per_class\n",
    "    except Exception as e:\n",
    "      print('Unable to process data from', pickle_file, ':', e)\n",
    "      raise\n",
    "    \n",
    "  return valid_dataset, valid_labels, train_dataset, train_labels\n",
    "            \n",
    "            \n",
    "train_size = 200000\n",
    "valid_size = 10000\n",
    "test_size = 10000\n",
    "\n",
    "valid_dataset, valid_labels, train_dataset, train_labels = merge_datasets(\n",
    "  train_datasets, train_size, valid_size)\n",
    "_, _, test_dataset, test_labels = merge_datasets(test_datasets, test_size)\n",
    "\n",
    "print('Training:', train_dataset.shape, train_labels.shape)\n",
    "print('Validation:', valid_dataset.shape, valid_labels.shape)\n",
    "print('Testing:', test_dataset.shape, test_labels.shape)"
   ]
  },
  {
   "cell_type": "code",
   "execution_count": 21,
   "metadata": {
    "collapsed": true
   },
   "outputs": [],
   "source": [
    "def randomize(dataset, labels):\n",
    "  permutation = np.random.permutation(labels.shape[0])\n",
    "  shuffled_dataset = dataset[permutation,:,:]\n",
    "  shuffled_labels = labels[permutation]\n",
    "  return shuffled_dataset, shuffled_labels\n",
    "train_dataset, train_labels = randomize(train_dataset, train_labels)\n",
    "test_dataset, test_labels = randomize(test_dataset, test_labels)\n",
    "valid_dataset, valid_labels = randomize(valid_dataset, valid_labels)\n"
   ]
  },
  {
   "cell_type": "code",
   "execution_count": 22,
   "metadata": {
    "collapsed": true
   },
   "outputs": [],
   "source": [
    "pickle_file = 'notMNIST.pickle'\n",
    "\n",
    "try:\n",
    "  f = open(pickle_file, 'wb')\n",
    "  save = {\n",
    "    'train_dataset': train_dataset,\n",
    "    'train_labels': train_labels,\n",
    "    'valid_dataset': valid_dataset,\n",
    "    'valid_labels': valid_labels,\n",
    "    'test_dataset': test_dataset,\n",
    "    'test_labels': test_labels,\n",
    "    }\n",
    "  pickle.dump(save, f, pickle.HIGHEST_PROTOCOL)\n",
    "  f.close()\n",
    "except Exception as e:\n",
    "  print('Unable to save data to', pickle_file, ':', e)\n",
    "  raise"
   ]
  },
  {
   "cell_type": "code",
   "execution_count": 23,
   "metadata": {
    "collapsed": false
   },
   "outputs": [
    {
     "name": "stdout",
     "output_type": "stream",
     "text": [
      "Compressed pickle size: 690800503\n"
     ]
    }
   ],
   "source": [
    "statinfo = os.stat(pickle_file)\n",
    "print('Compressed pickle size:', statinfo.st_size)"
   ]
  },
  {
   "cell_type": "code",
   "execution_count": 27,
   "metadata": {
    "collapsed": false
   },
   "outputs": [
    {
     "name": "stdout",
     "output_type": "stream",
     "text": [
      "Coefficients: \n",
      " [[ 0.08347928  0.06174405  0.09543751 ...,  0.19490244  0.1863111\n",
      "   0.1835611 ]\n",
      " [ 0.15655703  0.13697437  0.18789142 ...,  0.12404838  0.16942678\n",
      "   0.19555573]\n",
      " [ 0.07614334  0.06219991  0.10503586 ...,  0.11396749  0.1112885\n",
      "   0.13232293]\n",
      " ..., \n",
      " [ 0.13675904  0.11069455  0.08297274 ...,  0.10328183  0.15586142\n",
      "   0.17895027]\n",
      " [ 0.10845122  0.13568847  0.14175835 ...,  0.10825633  0.09970206\n",
      "   0.08842163]\n",
      " [ 0.12296591  0.08103541  0.11598039 ...,  0.10315091  0.08048395\n",
      "   0.10659384]]\n",
      "[1 6 4 4 7 1 7 1 4 4 1 0 9 5 0 5 6 8 6 7 6 8 0 6 4 6 1 0 2 6 0 4 8 6 1 1 5\n",
      " 4 1 8 4 7 1 8 6 6 4 6 7 4]\n",
      "[3 6 4 7 7 7 7 1 7 4 6 0 9 0 0 2 2 8 2 9 8 8 7 6 5 2 2 0 2 6 0 1 8 6 1 3 5\n",
      " 7 3 9 3 1 1 8 2 3 1 2 7 2]\n"
     ]
    }
   ],
   "source": [
    "pickle_file = 'notMNIST.pickle'\n",
    "with open(pickle_file, 'rb') as f:\n",
    "    all_data = pickle.load(f)\n",
    "\n",
    "# Logistic CLassifier object\n",
    "logclass = LogisticRegression()\n",
    "\n",
    "train_reshape = all_data['train_dataset'].reshape(all_data['train_dataset'].shape[0],-1)\n",
    "logclass.fit(train_reshape[0:50,:], all_data['train_labels'][0:50])\n",
    "\n",
    "print ('Coefficients: \\n', logclass.coef_)\n",
    "\n",
    "test_reshape = all_data['test_dataset'].reshape(all_data['test_dataset'].shape[0], -1)\n",
    "print(logclass.predict(test_reshape[0:50,:]))\n",
    "print(all_data['test_labels'][0:50])\n"
   ]
  },
  {
   "cell_type": "code",
   "execution_count": 28,
   "metadata": {
    "collapsed": false
   },
   "outputs": [
    {
     "name": "stdout",
     "output_type": "stream",
     "text": [
      "[1 6 4 4 7 1 7 1 4 4 1 0 9 5 0 5 6 8 6 7]\n",
      "[3 6 4 7 7 7 7 1 7 4 6 0 9 0 0 2 2 8 2 9]\n"
     ]
    }
   ],
   "source": [
    "test_reshape = all_data['test_dataset'].reshape(all_data['test_dataset'].shape[0], -1)\n",
    "print(logclass.predict(test_reshape[0:20,:]))\n",
    "print(all_data['test_labels'][0:20])"
   ]
  },
  {
   "cell_type": "code",
   "execution_count": null,
   "metadata": {
    "collapsed": true
   },
   "outputs": [],
   "source": []
  }
 ],
 "metadata": {
  "anaconda-cloud": {},
  "kernelspec": {
   "display_name": "Python [default]",
   "language": "python",
   "name": "python3"
  },
  "language_info": {
   "codemirror_mode": {
    "name": "ipython",
    "version": 3
   },
   "file_extension": ".py",
   "mimetype": "text/x-python",
   "name": "python",
   "nbconvert_exporter": "python",
   "pygments_lexer": "ipython3",
   "version": "3.5.2"
  }
 },
 "nbformat": 4,
 "nbformat_minor": 1
}
